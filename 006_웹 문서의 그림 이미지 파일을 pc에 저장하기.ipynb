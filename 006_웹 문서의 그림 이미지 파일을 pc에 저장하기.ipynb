{
 "cells": [
  {
   "cell_type": "code",
   "execution_count": null,
   "metadata": {},
   "outputs": [],
   "source": []
  },
  {
   "cell_type": "code",
   "execution_count": 4,
   "metadata": {},
   "outputs": [],
   "source": [
    "import requests\n",
    "from bs4 import BeautifulSoup"
   ]
  },
  {
   "cell_type": "code",
   "execution_count": 5,
   "metadata": {},
   "outputs": [],
   "source": [
    "url = \"https://en.wikipedia.org/wiki/Seoul_Metropolitan_Subway\"\n",
    "resp = requests.get(url)\n",
    "html_src = resp.text\n",
    "# 웹 서버에 get 요청을 보내고, 응답한 객체를 변수에 저장.\n",
    "# 응답 객체의 text속성에서 HTML 소스코드를 추출하여 변수 html_src에 할당한다"
   ]
  },
  {
   "cell_type": "code",
   "execution_count": 6,
   "metadata": {},
   "outputs": [],
   "source": [
    "soup = BeautifulSoup(html_src, 'html.parser')\n",
    "# html 소스코드를 해석하여 BeautifulSoup 객체를 생성한다\n",
    "# 이떄, HTML을 파싱하는 적절한 구문 해석기(파서)를 함께 입력해야 한다."
   ]
  },
  {
   "cell_type": "code",
   "execution_count": 7,
   "metadata": {},
   "outputs": [
    {
     "name": "stdout",
     "output_type": "stream",
     "text": [
      "<img alt=\"South Korea subway logo.svg\" data-file-height=\"450\" data-file-width=\"450\" decoding=\"async\" height=\"75\" src=\"//upload.wikimedia.org/wikipedia/commons/thumb/1/12/South_Korea_subway_logo.svg/75px-South_Korea_subway_logo.svg.png\" srcset=\"//upload.wikimedia.org/wikipedia/commons/thumb/1/12/South_Korea_subway_logo.svg/113px-South_Korea_subway_logo.svg.png 1.5x, //upload.wikimedia.org/wikipedia/commons/thumb/1/12/South_Korea_subway_logo.svg/150px-South_Korea_subway_logo.svg.png 2x\" width=\"75\"/>\n",
      "\n",
      "\n"
     ]
    }
   ],
   "source": [
    "first_img = soup.find(name = 'img')\n",
    "print(first_img)\n",
    "print('\\n')"
   ]
  },
  {
   "cell_type": "code",
   "execution_count": 8,
   "metadata": {
    "scrolled": true
   },
   "outputs": [
    {
     "name": "stdout",
     "output_type": "stream",
     "text": [
      "<img alt=\"Seoul-Metro-2004-20070722.jpg\" data-file-height=\"2100\" data-file-width=\"2800\" decoding=\"async\" height=\"225\" src=\"//upload.wikimedia.org/wikipedia/commons/thumb/2/29/Seoul-Metro-2004-20070722.jpg/300px-Seoul-Metro-2004-20070722.jpg\" srcset=\"//upload.wikimedia.org/wikipedia/commons/thumb/2/29/Seoul-Metro-2004-20070722.jpg/450px-Seoul-Metro-2004-20070722.jpg 1.5x, //upload.wikimedia.org/wikipedia/commons/thumb/2/29/Seoul-Metro-2004-20070722.jpg/600px-Seoul-Metro-2004-20070722.jpg 2x\" width=\"300\"/>\n"
     ]
    }
   ],
   "source": [
    "target_img = soup.find(name='img', attrs = {'alt':'Seoul-Metro-2004-20070722.jpg'})\n",
    "print(target_img)\n",
    "# find() 메소드의 attrs 매개변수에 {'속성 이름':'속성값'}의 딕셔너리 구조로 태그가 갖는 고유의 속성값을 지정한다\n",
    "# 지정한 속성값을 갖는 태그 중에서 가장 처음 나오는 태그를 찾는다.\n",
    "# 우리가 찾는 <img> 태그의 'alt' 속성은 'Seoul-Metro-2004-20070722.jpg'을 값으로 갖는다.\n",
    "# 한편 attrs 매개변수에 'alt'속성 이외에 다른 속성을 지정할 수도 있다."
   ]
  },
  {
   "cell_type": "markdown",
   "metadata": {},
   "source": [
    "# 여기까지 005와 동일"
   ]
  },
  {
   "cell_type": "code",
   "execution_count": 11,
   "metadata": {},
   "outputs": [
    {
     "name": "stdout",
     "output_type": "stream",
     "text": [
      "이미지 파일 경로: //upload.wikimedia.org/wikipedia/commons/thumb/2/29/Seoul-Metro-2004-20070722.jpg/300px-Seoul-Metro-2004-20070722.jpg\n",
      "\n",
      "\n"
     ]
    }
   ],
   "source": [
    "target_img_src = target_img.get('src')\n",
    "print('이미지 파일 경로:', target_img_src)\n",
    "print(\"\\n\")"
   ]
  },
  {
   "cell_type": "code",
   "execution_count": 24,
   "metadata": {},
   "outputs": [
    {
     "name": "stdout",
     "output_type": "stream",
     "text": [
      "<Response [200]>\n"
     ]
    }
   ],
   "source": [
    "target_img_resp = requests.get('http:' + target_img_src)\n",
    "out_file_path = \"C:/Users/Taewon Kim/Downloads/download_image.jpg\"\n",
    "print(target_img_resp)"
   ]
  },
  {
   "cell_type": "code",
   "execution_count": 37,
   "metadata": {},
   "outputs": [
    {
     "name": "stdout",
     "output_type": "stream",
     "text": [
      "이미지 파일로 저장하였습니다.\n"
     ]
    }
   ],
   "source": [
    "with open(out_file_path,'wb') as out_file:\n",
    "    out_file.write(target_img_resp.content)\n",
    "    print(\"이미지 파일로 저장하였습니다.\")\n",
    "    \n",
    "### https://withcoding.com/86\n",
    "### open (내장함수) 사용법\n",
    "# r - 읽기모드 (디폴트)\n",
    "# w - 쓰기모드, 파일이 있으면 모든 내용을 삭제\n",
    "# x - 쓰기모드, 파일이 있으면 오류 발생\n",
    "# a - 쓰기모드, 파일이 있으면 뒤에 내용을 추가\n",
    "# + - 읽기쓰기모드\n",
    "# t - 텍스트 모드, 텍스트 문자 기록에 사용 (디폴트)\n",
    "# b - 바이너리 모드, 바이트단위 데이터 기록에 사용\n",
    "# f = open('file.txt', 'rt')\n",
    "##예제\n",
    "# 기본값으로 텍스트 읽기모드 (rt는 생략 가능)\n",
    "# f = open('file.txt', 'wb')\n",
    "# 바이너리 쓰기모드\n",
    "# f = open('file.txt', 'r+t')\n",
    "# 텍스트 읽기쓰기모드, 맨 앞에서부터 내용을 덮어쓴다. \n",
    "# (파일이 없으면 오류 발생)\n",
    "# f = open('file.txt', 'w+t')\n",
    "# 텍스트 읽기쓰기모드, 파일 내용을 다 지우고 다시 쓴다.\n",
    "# f = open('file.txt', 'a+t')\n",
    "# 텍스트 읽기쓰기모드, 파일의 모든 내용을 남겨두고 맨 뒤에서부터 쓴다.\n",
    "# +가 포함된 파일모드는 모두 읽기쓰기모드이지만 기존 파일 내용을 처리하는 방식에 차이가 있다."
   ]
  }
 ],
 "metadata": {
  "kernelspec": {
   "display_name": "Python 3",
   "language": "python",
   "name": "python3"
  },
  "language_info": {
   "codemirror_mode": {
    "name": "ipython",
    "version": 3
   },
   "file_extension": ".py",
   "mimetype": "text/x-python",
   "name": "python",
   "nbconvert_exporter": "python",
   "pygments_lexer": "ipython3",
   "version": "3.8.3"
  }
 },
 "nbformat": 4,
 "nbformat_minor": 4
}
