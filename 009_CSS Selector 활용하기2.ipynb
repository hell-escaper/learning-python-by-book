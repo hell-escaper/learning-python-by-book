{
 "cells": [
  {
   "cell_type": "code",
   "execution_count": null,
   "metadata": {},
   "outputs": [],
   "source": []
  },
  {
   "cell_type": "code",
   "execution_count": null,
   "metadata": {},
   "outputs": [],
   "source": [
    "#CSS(Cascading Styole Sheets)는 HTML과 같은 마크업 언어의 디자인을 꾸미기 위해 사용하는 스타일 지정 도구이다.\n",
    "#BeautifulSoup에서는 select() 메소드에 CSS선택자(CSS Selector)를 매개변수로 전달하는 방법을 사용한다.\n",
    "#select() 메소드는 해당하는 태그를 모두 찾아서 리스트로 리턴한다.\n"
   ]
  },
  {
   "cell_type": "code",
   "execution_count": 3,
   "metadata": {},
   "outputs": [],
   "source": [
    "import requests, re  \n",
    "#정규식 표현을 사용하기 위해 re모듈을 추가한다\n",
    "from bs4 import BeautifulSoup"
   ]
  },
  {
   "cell_type": "code",
   "execution_count": 6,
   "metadata": {},
   "outputs": [],
   "source": [
    "url = \"https://en.wikipedia.org/wiki/Seoul_Metropolitan_Subway\"\n",
    "resp = requests.get(url)\n",
    "html_src = resp.text\n",
    "# 웹 서버에 get 요청을 보내고, 응답한 객체를 변수에 저장.\n",
    "# 응답 객체의 text속성에서 HTML 소스코드를 추출하여 변수 html_src에 할당한다"
   ]
  },
  {
   "cell_type": "code",
   "execution_count": 7,
   "metadata": {},
   "outputs": [],
   "source": [
    "soup = BeautifulSoup(html_src, 'html.parser')\n",
    "# html 소스코드를 해석하여 BeautifulSoup 객체를 생성한다\n",
    "# 이떄, HTML을 파싱하는 적절한 구문 해석기(파서)를 함께 입력해야 한다."
   ]
  },
  {
   "cell_type": "markdown",
   "metadata": {},
   "source": [
    "# 여기까지 008 동일"
   ]
  },
  {
   "cell_type": "code",
   "execution_count": 25,
   "metadata": {},
   "outputs": [
    {
     "name": "stdout",
     "output_type": "stream",
     "text": [
      "955\n",
      "\n",
      "\n"
     ]
    }
   ],
   "source": [
    "# 찾으려는 태그 이름을 매개변수로 전달하면, 웹 문서에서 해당하는 모든 태그를 찾아서 리스트 형태로 리턴한다.\n",
    "# 여기서 <a> 태그를 모두 찾아서 변수 links에 저장한다.\n",
    "# len 함수로 확인하면 <a>태그의 개수가 955개임을 알 수 있다.\n",
    "links = soup.select('a')\n",
    "print(len(links))\n",
    "print(\"\\n\")"
   ]
  },
  {
   "cell_type": "code",
   "execution_count": 28,
   "metadata": {},
   "outputs": [
    {
     "name": "stdout",
     "output_type": "stream",
     "text": [
      "[<a id=\"top\"></a>, <a class=\"mw-jump-link\" href=\"#mw-head\">Jump to navigation</a>, <a class=\"mw-jump-link\" href=\"#searchInput\">Jump to search</a>]\n",
      "\n",
      "\n"
     ]
    }
   ],
   "source": [
    "print(links[:3])\n",
    "print(\"\\n\")"
   ]
  },
  {
   "cell_type": "code",
   "execution_count": 29,
   "metadata": {},
   "outputs": [
    {
     "name": "stdout",
     "output_type": "stream",
     "text": [
      "[<a class=\"external text\" href=\"http://www.seoulmetro.co.kr/kr/board.do?menuIdx=548\" rel=\"nofollow\">\"자료실 : 알림마당&gt;자료실&gt;자료실\"</a>, <a class=\"external text\" href=\"http://www.korail.com/file/statistics/2012/2012-04.pdf\" rel=\"nofollow\">2012 Korail Statistics</a>, <a class=\"external text\" href=\"https://web.archive.org/web/20140227072212/http://www.korail.com/file/statistics/2012/2012-04.pdf\" rel=\"nofollow\">Archived</a>]\n",
      "\n",
      "\n"
     ]
    }
   ],
   "source": [
    "# <a> 태그 중에서 class 속성을 갖고 그 값이 \"external text\"인 태그들을 찾아서 리스트로 리턴한다.\n",
    "external_links = soup.select('a[class=\"external text\"]')\n",
    "print(external_links[:3])\n",
    "print(\"\\n\")"
   ]
  },
  {
   "cell_type": "code",
   "execution_count": 30,
   "metadata": {},
   "outputs": [
    {
     "name": "stdout",
     "output_type": "stream",
     "text": [
      "[<div class=\"mw-body-content\" id=\"siteNotice\"><!-- CentralNotice --></div>]\n",
      "\n",
      "\n"
     ]
    }
   ],
   "source": [
    "# CSS의 id 선택자를 활용하는 방법인다. CSS 스타일 시트에서 id는 고유한 값을 갖기 때문에 select() 메소드에 id 선택자를 사용하면\n",
    "# 오직 한 개의 태그만을 찾는다. id 선택자는 \"#id속성값\"으로 표현한다.\n",
    "# 아래는 id속성값이 \"siteNotice\" 인 태그를 가리킨다.\n",
    "id_selector = soup.select('#siteNotice')\n",
    "print(id_selector)\n",
    "print('\\n')"
   ]
  },
  {
   "cell_type": "code",
   "execution_count": 33,
   "metadata": {},
   "outputs": [
    {
     "name": "stdout",
     "output_type": "stream",
     "text": [
      "[<div class=\"mw-body-content\" id=\"siteNotice\"><!-- CentralNotice --></div>]\n",
      "\n",
      "\n"
     ]
    }
   ],
   "source": [
    "# CSS의 id 선택자를 사용할 때, 특정 태그 안에서만 id 선택자를 찾는 방법이다.\n",
    "# 'div#siteNotice'는 div 태그 중에서 id 속성값이 \"siteNotice\"인 div 태그를 뜻한다.\n",
    "# 결과는 윗줄과 같다\n",
    "# soup.select('태그#id속성값')\n",
    "id_selector2= soup.select('div#siteNotice')\n",
    "print(id_selector2)\n",
    "print(\"\\n\")"
   ]
  },
  {
   "cell_type": "code",
   "execution_count": 34,
   "metadata": {},
   "outputs": [
    {
     "name": "stdout",
     "output_type": "stream",
     "text": [
      "[]\n",
      "\n",
      "\n"
     ]
    }
   ],
   "source": [
    "# p태그 중에서 id 속성값이 siteNotice인 p태그를 말한다.\n",
    "# 현재 웹문서에서는 id속성값이 siteNotice인 태그는 div 태그가 유일한다.\n",
    "id_selector3 = soup.select('p#siteNotice')\n",
    "print(id_selector3)\n",
    "print(\"\\n\")"
   ]
  },
  {
   "cell_type": "code",
   "execution_count": 35,
   "metadata": {},
   "outputs": [
    {
     "name": "stdout",
     "output_type": "stream",
     "text": [
      "[<span class=\"mw-headline\" id=\"Overview\">Overview</span>, <span class=\"mw-headline\" id=\"History\">History</span>, <span class=\"mw-headline\" id=\"Lines_and_branches\">Lines and branches</span>, <span class=\"mw-headline\" id=\"Rolling_stock\">Rolling stock</span>, <span class=\"mw-headline\" id=\"Fares_and_ticketing\">Fares and ticketing</span>, <span class=\"mw-headline\" id=\"Current_construction\">Current construction</span>, <span class=\"mw-headline\" id=\"Opening_2020\">Opening 2020</span>, <span class=\"mw-headline\" id=\"Opening_2021\">Opening 2021</span>, <span class=\"mw-headline\" id=\"Opening_2022\">Opening 2022</span>, <span class=\"mw-headline\" id=\"Opening_2023\">Opening 2023</span>, <span class=\"mw-headline\" id=\"Tentative\">Tentative</span>, <span class=\"mw-headline\" id=\"Under_planning\">Under planning</span>, <span class=\"mw-headline\" id=\"Seoul_City\">Seoul City</span>, <span class=\"mw-headline\" id=\"Incheon_City\">Incheon City</span>, <span class=\"mw-headline\" id=\"Network_map\">Network map</span>, <span class=\"mw-headline\" id=\"See_also\">See also</span>, <span class=\"mw-headline\" id=\"Notes\">Notes</span>, <span class=\"mw-headline\" id=\"References\">References</span>, <span class=\"mw-headline\" id=\"External_links\">External links</span>]\n",
      "\n",
      "\n"
     ]
    }
   ],
   "source": [
    "# CSS의 클래스 선택자를 활용하는 방법\n",
    "# 일반적으로 CSS 스타일 시트에서 서로 다른 요소에 동일한 스타일을 지정할 때 클래스 선택자를 사용하는데,\n",
    "# 클래스 선택자를 사용하면 같은 클래스를 갖는 여러 태그를 동시에 찾을 수 있다.\n",
    "# 클래스 선택자는 \".class속성값\"으로 표현하는데, '.mw-headline'은 class 속성값이 \"mw-headline\"에 해당하는 모든 태그를 뜻한다.\n",
    "# select('#id속성값')\n",
    "# select('태그#id속성값')\n",
    "# select('.class속성값')\n",
    "class_selector = soup.select('.mw-headline')\n",
    "print(class_selector)\n",
    "print(\"\\n\")"
   ]
  },
  {
   "cell_type": "code",
   "execution_count": 24,
   "metadata": {},
   "outputs": [
    {
     "name": "stdout",
     "output_type": "stream",
     "text": [
      "[<span class=\"mw-headline\" id=\"Overview\">Overview</span>, <span class=\"mw-headline\" id=\"History\">History</span>, <span class=\"mw-headline\" id=\"Lines_and_branches\">Lines and branches</span>, <span class=\"mw-headline\" id=\"Rolling_stock\">Rolling stock</span>, <span class=\"mw-headline\" id=\"Fares_and_ticketing\">Fares and ticketing</span>, <span class=\"mw-headline\" id=\"Current_construction\">Current construction</span>, <span class=\"mw-headline\" id=\"Opening_2020\">Opening 2020</span>, <span class=\"mw-headline\" id=\"Opening_2021\">Opening 2021</span>, <span class=\"mw-headline\" id=\"Opening_2022\">Opening 2022</span>, <span class=\"mw-headline\" id=\"Opening_2023\">Opening 2023</span>, <span class=\"mw-headline\" id=\"Tentative\">Tentative</span>, <span class=\"mw-headline\" id=\"Under_planning\">Under planning</span>, <span class=\"mw-headline\" id=\"Seoul_City\">Seoul City</span>, <span class=\"mw-headline\" id=\"Incheon_City\">Incheon City</span>, <span class=\"mw-headline\" id=\"Network_map\">Network map</span>, <span class=\"mw-headline\" id=\"See_also\">See also</span>, <span class=\"mw-headline\" id=\"Notes\">Notes</span>, <span class=\"mw-headline\" id=\"References\">References</span>, <span class=\"mw-headline\" id=\"External_links\">External links</span>]\n"
     ]
    }
   ],
   "source": [
    "# 클래스 선택자의 경우에도 특정 태그에 한정하여 적용할 수 있다.\n",
    "# 'span.mw-headline'은 <span>태그 중에서 class 속성값이 \"mw=headline\"에 해당하는 태그를 뜻한다.\n",
    "# soup('태그.class속성값')\n",
    "class_selector2 = soup.select('span.mw-headline')\n",
    "print(class_selector2)"
   ]
  }
 ],
 "metadata": {
  "kernelspec": {
   "display_name": "Python 3",
   "language": "python",
   "name": "python3"
  },
  "language_info": {
   "codemirror_mode": {
    "name": "ipython",
    "version": 3
   },
   "file_extension": ".py",
   "mimetype": "text/x-python",
   "name": "python",
   "nbconvert_exporter": "python",
   "pygments_lexer": "ipython3",
   "version": "3.8.3"
  }
 },
 "nbformat": 4,
 "nbformat_minor": 4
}
