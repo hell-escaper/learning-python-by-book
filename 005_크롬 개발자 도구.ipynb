{
 "cells": [
  {
   "cell_type": "code",
   "execution_count": 2,
   "metadata": {},
   "outputs": [],
   "source": [
    "import requests\n",
    "from bs4 import BeautifulSoup"
   ]
  },
  {
   "cell_type": "code",
   "execution_count": 3,
   "metadata": {},
   "outputs": [],
   "source": [
    "url = \"https://en.wikipedia.org/wiki/Seoul_Metropolitan_Subway\"\n",
    "resp = requests.get(url)\n",
    "html_src = resp.text\n",
    "# 웹 서버에 get 요청을 보내고, 응답한 객체를 변수에 저장.\n",
    "# 응답 객체의 text속성에서 HTML 소스코드를 추출하여 변수 html_src에 할당한다"
   ]
  },
  {
   "cell_type": "code",
   "execution_count": 4,
   "metadata": {},
   "outputs": [],
   "source": [
    "soup = BeautifulSoup(html_src, 'html.parser')\n",
    "# html 소스코드를 해석하여 BeautifulSoup 객체를 생성한다\n",
    "# 이떄, HTML을 파싱하는 적절한 구문 해석기(파서)를 함께 입력해야 한다."
   ]
  },
  {
   "cell_type": "markdown",
   "metadata": {},
   "source": [
    "# ↑ 여기까지 004와 동일"
   ]
  },
  {
   "cell_type": "code",
   "execution_count": 9,
   "metadata": {},
   "outputs": [
    {
     "name": "stdout",
     "output_type": "stream",
     "text": [
      "<img alt=\"South Korea subway logo.svg\" data-file-height=\"450\" data-file-width=\"450\" decoding=\"async\" height=\"75\" src=\"//upload.wikimedia.org/wikipedia/commons/thumb/1/12/South_Korea_subway_logo.svg/75px-South_Korea_subway_logo.svg.png\" srcset=\"//upload.wikimedia.org/wikipedia/commons/thumb/1/12/South_Korea_subway_logo.svg/113px-South_Korea_subway_logo.svg.png 1.5x, //upload.wikimedia.org/wikipedia/commons/thumb/1/12/South_Korea_subway_logo.svg/150px-South_Korea_subway_logo.svg.png 2x\" width=\"75\"/>\n",
      "\n",
      "\n"
     ]
    }
   ],
   "source": [
    "first_img = soup.find(name = 'img')\n",
    "print(first_img)\n",
    "print('\\n')"
   ]
  },
  {
   "cell_type": "code",
   "execution_count": 11,
   "metadata": {},
   "outputs": [
    {
     "name": "stdout",
     "output_type": "stream",
     "text": [
      "<img alt=\"Seoul-Metro-2004-20070722.jpg\" data-file-height=\"2100\" data-file-width=\"2800\" decoding=\"async\" height=\"225\" src=\"//upload.wikimedia.org/wikipedia/commons/thumb/2/29/Seoul-Metro-2004-20070722.jpg/300px-Seoul-Metro-2004-20070722.jpg\" srcset=\"//upload.wikimedia.org/wikipedia/commons/thumb/2/29/Seoul-Metro-2004-20070722.jpg/450px-Seoul-Metro-2004-20070722.jpg 1.5x, //upload.wikimedia.org/wikipedia/commons/thumb/2/29/Seoul-Metro-2004-20070722.jpg/600px-Seoul-Metro-2004-20070722.jpg 2x\" width=\"300\"/>\n"
     ]
    }
   ],
   "source": [
    "target_img = soup.find(name='img', attrs = {'alt':'Seoul-Metro-2004-20070722.jpg'})\n",
    "print(target_img)\n",
    "# find() 메소드의 attrs 매개변수에 {'속성 이름':'속성값'}의 딕셔너리 구조로 태그가 갖는 고유의 속성값을 지정한다\n",
    "# 지정한 속성값을 갖는 태그 중에서 가장 처음 나오는 태그를 찾는다.\n",
    "# 우리가 찾는 <img> 태그의 'alt' 속성은 'Seoul-Metro-2004-20070722.jpg'을 값으로 갖는다.\n",
    "# 한편 attrs 매개변수에 'alt'속성 이외에 다른 속성을 지정할 수도 있다."
   ]
  }
 ],
 "metadata": {
  "kernelspec": {
   "display_name": "Python 3",
   "language": "python",
   "name": "python3"
  },
  "language_info": {
   "codemirror_mode": {
    "name": "ipython",
    "version": 3
   },
   "file_extension": ".py",
   "mimetype": "text/x-python",
   "name": "python",
   "nbconvert_exporter": "python",
   "pygments_lexer": "ipython3",
   "version": "3.8.3"
  }
 },
 "nbformat": 4,
 "nbformat_minor": 4
}
