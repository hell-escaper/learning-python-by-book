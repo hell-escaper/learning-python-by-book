{
 "cells": [
  {
   "cell_type": "code",
   "execution_count": null,
   "metadata": {},
   "outputs": [],
   "source": []
  },
  {
   "cell_type": "code",
   "execution_count": 1,
   "metadata": {},
   "outputs": [],
   "source": [
    "#구글 뉴스 웹사이트의 로봇 배제 표준 확인하기\n",
    "# https://news.google.com/robots.txt"
   ]
  },
  {
   "cell_type": "raw",
   "metadata": {},
   "source": [
    "User-agent: *\n",
    "Disallow: /\n",
    "Disallow: /search?\n",
    "Allow: /$\n",
    "Allow: /?\n",
    "Allow: /nwshp$\n",
    "Allow: /news$\n",
    "Allow: /news/$\n",
    "Allow: /news/?gl=\n",
    "Allow: /news/?hl=\n",
    "Allow: /news/?ned=\n",
    "Allow: /about$\n",
    "Allow: /about?\n",
    "Allow: /about/\n",
    "Allow: /topics/\n",
    "Allow: /publications/\n",
    "Allow: /stories/\n",
    "Allow: /swg/\n",
    "Allow: /covid19/\n",
    "\n",
    "User-agent: Googlebot\n",
    "Disallow: /topics/\n",
    "Disallow: /publications/\n",
    "Disallow: /stories/"
   ]
  },
  {
   "cell_type": "code",
   "execution_count": 2,
   "metadata": {},
   "outputs": [],
   "source": [
    "import requests\n",
    "from bs4 import BeautifulSoup"
   ]
  },
  {
   "cell_type": "code",
   "execution_count": 3,
   "metadata": {},
   "outputs": [],
   "source": [
    "# 구글 뉴스 검색(검색어: 파이썬)\n",
    "# news.google.com에서 파이썬을 검색 \n",
    "# https://news.google.com/search?q=%ED%8C%8C%EC%9D%B4%EC%8D%AC&hl=ko&gl=KR&ceid=KR%3Ako\n",
    "# 실제론 다르게 생긴 주소가 나오는데 복사 붙여넣으면 이런 모양이 된다\n",
    "# 실제 웹 브라우저에서는 한글을 표시하는 유니코드를 URL 코드 형식으로 인코딩하여 사용하기 때문에 저렇게 바뀐다고 한다\n",
    "base_url = \"https://news.google.com\"\n",
    "search_url = base_url + \"/search?q=%ED%8C%8C%EC%9D%B4%EC%8D%AC&hI=ko&hL=KR&ceid=KR%3Ako\"\n",
    "resp = requests.get(search_url)\n",
    "html_src = resp.text\n",
    "# 웹서버에서 응답받은 html_src를 BeautifulSoup 함수에 \"html.parser\" 파서를 적용하여 HTML을 파싱한다.\n",
    "soup = BeautifulSoup(html_src,'html.parser')"
   ]
  },
  {
   "cell_type": "code",
   "execution_count": 4,
   "metadata": {
    "collapsed": true
   },
   "outputs": [
    {
     "name": "stdout",
     "output_type": "stream",
     "text": [
      "100\n",
      "<div class=\"xrnccd\"><article class=\"MQsxIb xTewfe R7GTQ keNKEd j7vNaf Cc0Z5d EjqUne\" data-kind=\"13\" data-n-cvid=\"i5\" data-n-et=\"107\" data-n-ham=\"true\" data-n-vlb=\"0\" jsaction=\";rcuQ6b:npT2md; click:KjsqPd;EXlHgb:HQ4Dqd\" jscontroller=\"mhFxVb\" jsdata=\"oM6qxc;CBMiLmh0dHBzOi8vZXZlbnQuaGFua3l1bmcuY29tL3NlbWluYXIvY29uczIwMjBsZy_SAQA;4\" jslog=\"85008\" jsmodel=\"QWGJif hT8rr\"><a aria-hidden=\"true\" class=\"VDXfz\" href=\"./articles/CBMiLmh0dHBzOi8vZXZlbnQuaGFua3l1bmcuY29tL3NlbWluYXIvY29uczIwMjBsZy_SAQA?hl=ko&amp;gl=KR&amp;ceid=KR%3Ako\" jslog=\"95014; 5:W251bGwsbnVsbCxudWxsLG51bGwsbnVsbCxudWxsLG51bGwsbnVsbCwiaHR0cHM6Ly9ldmVudC5oYW5reXVuZy5jb20vc2VtaW5hci9jb25zMjAyMGxnLyJd; track:click\" jsname=\"hXwDdf\" tabindex=\"-1\" target=\"_blank\"></a><h3 class=\"ipQwMb ekueJc RD0gLb\"><a class=\"DY5T1d\" href=\"./articles/CBMiLmh0dHBzOi8vZXZlbnQuaGFua3l1bmcuY29tL3NlbWluYXIvY29uczIwMjBsZy_SAQA?hl=ko&amp;gl=KR&amp;ceid=KR%3Ako\">재직자 IT 교육접수 | 한경닷컴</a></h3><div aria-hidden=\"true\" class=\"Da10Tb Rai5ob\" jsname=\"jVqMGc\"><span class=\"xBbh9\">성공을 부르는 습관, 유익한 혜택을 만나는 방법.</span></div><div class=\"QmrVtf RD0gLb\"><div class=\"SVJrMe\" jsname=\"Hn1wIf\"><span aria-hidden=\"true\" class=\"DPvwYc N3ElHc hEsB5d eLNT1d uQIVzc\" jsname=\"boXlNc\">amp</span><span aria-hidden=\"true\" class=\"DPvwYc N3ElHc gQtGhf eLNT1d uQIVzc\">video_youtube</span><a class=\"wEwyrc AVN2gc uQIVzc Sksgp\">한국경제</a><time class=\"WW6dff uQIVzc Sksgp\" datetime=\"2020-10-13T08:21:52Z\">2일 전</time></div><menu class=\"fmkQje gXqRq\"><div class=\"OGsJDe L8PZAb R71ogd\" data-n-ca-at=\"2\" data-n-et=\"1000\" data-n-st=\"bookmark\" jsaction=\"rcuQ6b:npT2md;JIbuQc:h5M12e;eEPUnd:h5M12e;YohPuc:CE7Jad;\" jscontroller=\"j3kq0e\" jsdata=\"oM6qxc;CBMiLmh0dHBzOi8vZXZlbnQuaGFua3l1bmcuY29tL3NlbWluYXIvY29uczIwMjBsZy_SAQA;4\" jsmodel=\"Vf5Xdc\" jsname=\"ms4Zd\"><div aria-disabled=\"false\" class=\"U26fgb YOnsCc waNn5b ZqhUjb ztUP4e uUmIDd cd29Sd V3dfMc w0hkKb\" data-n-et=\"1000\" jsaction=\"click:cOuCgd; mousedown:UX7yZ; mouseup:lbsD7e; mouseenter:tfO1Yc; mouseleave:JywGue; focus:AHmuwe; blur:O22p3e; contextmenu:mg9Pef;touchstart:p6p2H; touchmove:FwuNnf; touchend:yfqBxc(preventMouseEvents=true|preventDefault=true); touchcancel:JMtRjd;;OuuAFc:UauMyf;gSufsc:BS8cLb;RyWlBb:tC9Erd;UTnG9:aDaYxb;nUyoxf:El6wk;\" jscontroller=\"nGXkff\" jsname=\"itaskb\" jsshadow=\"\" role=\"button\" tabindex=\"0\"><div class=\"XI1L0d\" jsname=\"ksKsZd\"></div><span aria-hidden=\"true\" class=\"DPvwYc ChwdAb Xd067b fAk9Qc\" jsname=\"BC5job\">bookmark_border</span></div></div><span class=\"L8PZAb uG2FLd\" data-n-ca-at=\"8\" data-n-et=\"1000\" jsaction=\"JIbuQc:RNDhHe;\" jscontroller=\"ewrQ6c\" jsdata=\"oM6qxc;CBMiLmh0dHBzOi8vZXZlbnQuaGFua3l1bmcuY29tL3NlbWluYXIvY29uczIwMjBsZy_SAQA;4\" jslog=\"93393\" jsmodel=\"cQe25d hECoeb\"><div aria-disabled=\"false\" aria-label=\"공유\" class=\"U26fgb YOnsCc waNn5b ZqhUjb ztUP4e uUmIDd cd29Sd V3dfMc w0hkKb\" data-n-et=\"1000\" data-tooltip=\"공유\" data-tooltip-horizontal-offset=\"0\" data-tooltip-vertical-offset=\"-12\" jsaction=\"click:cOuCgd; mousedown:UX7yZ; mouseup:lbsD7e; mouseenter:tfO1Yc; mouseleave:JywGue; focus:AHmuwe; blur:O22p3e; contextmenu:mg9Pef;touchstart:p6p2H; touchmove:FwuNnf; touchend:yfqBxc(preventMouseEvents=true|preventDefault=true); touchcancel:JMtRjd;;OuuAFc:UauMyf;gSufsc:BS8cLb;RyWlBb:tC9Erd;UTnG9:aDaYxb;nUyoxf:El6wk;\" jscontroller=\"nGXkff\" jsname=\"itaskb\" jsshadow=\"\" role=\"button\" tabindex=\"0\"><div class=\"XI1L0d\" jsname=\"ksKsZd\"></div><span aria-hidden=\"true\" class=\"DPvwYc ChwdAb Xd067b fAk9Qc\" jsname=\"BC5job\">share</span></div></span><span class=\"L8PZAb GB1Zid\" data-n-prms=\"[false,false,false,null]\" jsaction=\"rcuQ6b:npT2md;aWRkAb:u0WEMd;h4C2te:Oy8cwd;\" jscontroller=\"Md9Mid\" jsdata=\"oM6qxc;CBMiLmh0dHBzOi8vZXZlbnQuaGFua3l1bmcuY29tL3NlbWluYXIvY29uczIwMjBsZy_SAQA;4\" jslog=\"109017\" jsmodel=\"jZ86ec Vf5Xdc\"><div aria-disabled=\"false\" aria-expanded=\"false\" aria-haspopup=\"true\" aria-label=\"더보기\" class=\"U26fgb YOnsCc waNn5b ZqhUjb ztUP4e uUmIDd gL67me cd29Sd V3dfMc w0hkKb\" data-dynamic=\"true\" data-tooltip=\"더보기\" data-tooltip-horizontal-offset=\"0\" data-tooltip-vertical-offset=\"-12\" jsaction=\"click:cOuCgd; mousedown:UX7yZ; mouseup:lbsD7e; mouseenter:tfO1Yc; mouseleave:JywGue; focus:AHmuwe; blur:O22p3e; contextmenu:mg9Pef;touchstart:p6p2H; touchmove:FwuNnf; touchend:yfqBxc(preventMouseEvents=true|preventDefault=true); touchcancel:JMtRjd;;keydown:I481le;OuuAFc:UauMyf;gSufsc:BS8cLb;RyWlBb:tC9Erd;UTnG9:aDaYxb;nUyoxf:El6wk;\" jscontroller=\"Ui93ue\" jsname=\"itaskb\" jsshadow=\"\" role=\"button\" tabindex=\"0\"><div class=\"XI1L0d\" jsname=\"ksKsZd\"></div><span aria-hidden=\"true\" class=\"DPvwYc ChwdAb Xd067b fAk9Qc\" jsname=\"BC5job\">more_vert</span></div></span></menu></div></article></div>\n",
      "\n",
      "\n"
     ]
    }
   ],
   "source": [
    "# 뉴스 아이템 블록을 선택\n",
    "# 웹페이지에서 뉴스 콘텐츠 요소를 검색하기 위해, soup 객체에 select() 메소드를 적용한다.\n",
    "# <div> 태그 중에서 class 속성이 아래 녀석인 태그를 모두 찾아서 리스트에 담는다\n",
    "news_items = soup.select('div[class=\"xrnccd\"]')\n",
    "print(len(news_items))\n",
    "print(news_items[0])\n",
    "print(\"\\n\")"
   ]
  },
  {
   "cell_type": "code",
   "execution_count": 71,
   "metadata": {},
   "outputs": [
    {
     "name": "stdout",
     "output_type": "stream",
     "text": [
      "https://news.google.com/articles/CBMiLmh0dHBzOi8vZXZlbnQuaGFua3l1bmcuY29tL3NlbWluYXIvY29uczIwMjBsZy_SAQA?hl=ko&gl=KR&ceid=KR%3Ako\n",
      "재직자 IT 교육접수 | 한경닷컴 -> getText() 사용\n",
      "재직자 IT 교육접수 | 한경닷컴 -> text 속성값 사용\n",
      "성공을 부르는 습관, 유익한 혜택을 만나는 방법.\n",
      "한국경제\n",
      "2020-10-13 08:21:52\n",
      "\n",
      "\n",
      "https://news.google.com/articles/CBMiMWh0dHBzOi8vd3d3LmNvZGluZ3dvcmxkbmV3cy5jb20vYXJ0aWNsZS92aWV3LzE1MzLSAQA?hl=ko&gl=KR&ceid=KR%3Ako\n",
      "데이터 과학자들이 학습해야 할 프로그래밍 언어 5가지 -> getText() 사용\n",
      "데이터 과학자들이 학습해야 할 프로그래밍 언어 5가지 -> text 속성값 사용\n",
      "기술의 발전과 함께 데이터 사용이 보편화됐다. 그와 동시에 데이터에서 정보를 추출하는 데이터 과학 분야도 인기를 얻기 시작했다. 그러나 데이터 과학은 데이터 ...\n",
      "코딩월드뉴스\n",
      "2020-09-17 07:00:00\n",
      "\n",
      "\n",
      "https://news.google.com/articles/CBMiI2h0dHA6Ly93d3cuY2lva29yZWEuY29tL25ld3MvMTY2NjEw0gEA?hl=ko&gl=KR&ceid=KR%3Ako\n",
      "파이썬 초중급자를 위한 유무료 강좌 5선 -> getText() 사용\n",
      "파이썬 초중급자를 위한 유무료 강좌 5선 -> text 속성값 사용\n",
      "이제 막 파이썬을 배우기 시작했거나 머신러닝이나 웹 개발 심층연구를 하고 싶다면 아래의 유무료 강좌를 참고하면 좋다. 파이썬은 배우기도 쉽고 사용하기도 쉽다.\n",
      "CIO Korea\n",
      "2020-10-05 07:33:26\n",
      "\n",
      "\n"
     ]
    }
   ],
   "source": [
    "# new_items에 들어있는 100개의 <div> 태그를 하나씩 파싱하기 위하여 for 반복문을 쓴다.\n",
    "# 출력량을 제한하기위해 3개를 대상으로 반복문을 적용한다\n",
    "for item in news_items[:3]:\n",
    "    # 개별 뉴스의 링크는 <a> 태그의 아래 클래스에 들어가있다. <a> 태그의 'href' 속성을 따로 추출하기 위해 get() 메소드를 이용한다.\n",
    "    link = item.find('a',attrs={'class':'VDXfz'}).get('href')\n",
    "    news_link = base_url + link[1:] # 문자열 슬라이싱(리스트, 문자열 둘다 가능)\n",
    "    print(news_link)\n",
    "    \n",
    "    # 개별 뉴스 제목은 <a> 태그 중에서 class 속성이 아래인 경우에 들어있다. find() 명령으로 찾은 <a> 태그 요소에\n",
    "    # getText() 메소드를 적용하여 텍스트 부분을 추출한다.\n",
    "    # getText()는 <a ...> 텍스트 </a> 구조의 중간 부분의 '텍스트'를 가져오는듯 하다\n",
    "    news_title = item.find('a', attrs={'class':'DY5T1d'}).getText()\n",
    "    print(news_title,\"-> getText() 사용\")\n",
    "    news_title = item.find('a', attrs={'class':'DY5T1d'}).text\n",
    "    print(news_title,\"-> text 속성값 사용\")\n",
    "    \n",
    "    # 이번엔 text 속성으로 텍스트를 불러왔는데, getText()로 해도 결과값이 똑같다.\n",
    "    news_content = item.find('span',attrs={'class':'xBbh9'}).text\n",
    "    print(news_content)\n",
    "    \n",
    "    # text 속성값으로 텍스트를 뽑는다.\n",
    "    news_agency = item.find('a',attrs={'class':'wEwyrc AVN2gc uQIVzc Sksgp'}).text\n",
    "    print(news_agency)\n",
    "    \n",
    "    \n",
    "    news_reporting = item.find('time', attrs={'class':'WW6dff uQIVzc Sksgp'})\n",
    "    # datetime 이라는 속성을 가져와서 split 한다.\n",
    "    news_reporting_datetime = news_reporting.get('datetime').split('T')\n",
    "    news_reporting_date = news_reporting_datetime[0]\n",
    "    news_reporting_time = news_reporting_datetime[1][:-1]\n",
    "    print(news_reporting_date, news_reporting_time)\n",
    "    print(\"\\n\")  "
   ]
  },
  {
   "cell_type": "code",
   "execution_count": 72,
   "metadata": {},
   "outputs": [
    {
     "name": "stdout",
     "output_type": "stream",
     "text": [
      "{'link': ['https://news.google.com/articles/CBMiLmh0dHBzOi8vZXZlbnQuaGFua3l1bmcuY29tL3NlbWluYXIvY29uczIwMjBsZy_SAQA?hl=ko&gl=KR&ceid=KR%3Ako', 'https://news.google.com/articles/CBMiMWh0dHBzOi8vd3d3LmNvZGluZ3dvcmxkbmV3cy5jb20vYXJ0aWNsZS92aWV3LzE1MzLSAQA?hl=ko&gl=KR&ceid=KR%3Ako'], 'title': ['재직자 IT 교육접수 | 한경닷컴', '데이터 과학자들이 학습해야 할 프로그래밍 언어 5가지'], 'contents': ['성공을 부르는 습관, 유익한 혜택을 만나는 방법.', '기술의 발전과 함께 데이터 사용이 보편화됐다. 그와 동시에 데이터에서 정보를 추출하는 데이터 과학 분야도 인기를 얻기 시작했다. 그러나 데이터 과학은 데이터 ...'], 'agency': ['한국경제', '코딩월드뉴스'], 'date': ['2020-10-13', '2020-09-17'], 'time': ['08:21:52', '07:00:00']}\n"
     ]
    }
   ],
   "source": [
    "# 앞의 코드를 이용하여 구글 뉴스 클리핑 함수 정의\n",
    "def google_news_clipping(url, limit=5):\n",
    "    \n",
    "    resp = requests.get(url)\n",
    "    html_src = resp.text\n",
    "    soup = BeautifulSoup(html_src,'html.parser')\n",
    "    \n",
    "    news_items = soup.select('div[class=\"xrnccd\"]')\n",
    "    \n",
    "    links=[]; titles =[]; contents=[]; agencies=[]; reporting_dates=[]; reporting_times=[];\n",
    "    \n",
    "    for item in news_items[:limit]:\n",
    "        link=item.find('a',attrs={'class':'VDXfz'}).get('href')\n",
    "        news_link = base_url + link[1:]\n",
    "        links.append(news_link)\n",
    "        \n",
    "        news_title = item.find('a', attrs={'class':'DY5T1d'}).getText()\n",
    "        titles.append(news_title)\n",
    "    \n",
    "        news_content = item.find('span',attrs={'class':'xBbh9'}).text\n",
    "        contents.append(news_content)\n",
    "    \n",
    "        news_agency = item.find('a',attrs={'class':'wEwyrc AVN2gc uQIVzc Sksgp'}).text\n",
    "        agencies.append(news_agency)\n",
    "\n",
    "        news_reporting = item.find('time', attrs={'class':'WW6dff uQIVzc Sksgp'})\n",
    "        news_reporting_datetime = news_reporting.get('datetime').split('T')\n",
    "        news_reporting_date = news_reporting_datetime[0]\n",
    "        news_reporting_time = news_reporting_datetime[1][:-1]\n",
    "        reporting_dates.append(news_reporting_date)\n",
    "        reporting_times.append(news_reporting_time)\n",
    "        \n",
    "    result = {'link':links, 'title':titles, 'contents':contents, 'agency':agencies, \\\n",
    "              'date':reporting_dates, 'time':reporting_times}\n",
    "    return result\n",
    "\n",
    "news = google_news_clipping(search_url, 2)\n",
    "print(news)"
   ]
  },
  {
   "cell_type": "code",
   "execution_count": 73,
   "metadata": {},
   "outputs": [
    {
     "data": {
      "text/plain": [
       "dict_keys(['link', 'title', 'contents', 'agency', 'date', 'time'])"
      ]
     },
     "execution_count": 73,
     "metadata": {},
     "output_type": "execute_result"
    }
   ],
   "source": [
    "news.keys()"
   ]
  },
  {
   "cell_type": "code",
   "execution_count": 74,
   "metadata": {},
   "outputs": [
    {
     "data": {
      "text/plain": [
       "dict_values([['https://news.google.com/articles/CBMiLmh0dHBzOi8vZXZlbnQuaGFua3l1bmcuY29tL3NlbWluYXIvY29uczIwMjBsZy_SAQA?hl=ko&gl=KR&ceid=KR%3Ako', 'https://news.google.com/articles/CBMiMWh0dHBzOi8vd3d3LmNvZGluZ3dvcmxkbmV3cy5jb20vYXJ0aWNsZS92aWV3LzE1MzLSAQA?hl=ko&gl=KR&ceid=KR%3Ako'], ['재직자 IT 교육접수 | 한경닷컴', '데이터 과학자들이 학습해야 할 프로그래밍 언어 5가지'], ['성공을 부르는 습관, 유익한 혜택을 만나는 방법.', '기술의 발전과 함께 데이터 사용이 보편화됐다. 그와 동시에 데이터에서 정보를 추출하는 데이터 과학 분야도 인기를 얻기 시작했다. 그러나 데이터 과학은 데이터 ...'], ['한국경제', '코딩월드뉴스'], ['2020-10-13', '2020-09-17'], ['08:21:52', '07:00:00']])"
      ]
     },
     "execution_count": 74,
     "metadata": {},
     "output_type": "execute_result"
    }
   ],
   "source": [
    "news.values()"
   ]
  }
 ],
 "metadata": {
  "kernelspec": {
   "display_name": "Python 3",
   "language": "python",
   "name": "python3"
  },
  "language_info": {
   "codemirror_mode": {
    "name": "ipython",
    "version": 3
   },
   "file_extension": ".py",
   "mimetype": "text/x-python",
   "name": "python",
   "nbconvert_exporter": "python",
   "pygments_lexer": "ipython3",
   "version": "3.8.3"
  }
 },
 "nbformat": 4,
 "nbformat_minor": 4
}
