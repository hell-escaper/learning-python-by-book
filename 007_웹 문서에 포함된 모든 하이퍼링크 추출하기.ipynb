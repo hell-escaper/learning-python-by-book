{
 "cells": [
  {
   "cell_type": "code",
   "execution_count": null,
   "metadata": {},
   "outputs": [],
   "source": []
  },
  {
   "cell_type": "code",
   "execution_count": 12,
   "metadata": {},
   "outputs": [],
   "source": [
    "import requests, re  \n",
    "#정규식 표현을 사용하기 위해 re모듈을 추가한다\n",
    "from bs4 import BeautifulSoup"
   ]
  },
  {
   "cell_type": "code",
   "execution_count": 13,
   "metadata": {},
   "outputs": [],
   "source": [
    "url = \"https://en.wikipedia.org/wiki/Seoul_Metropolitan_Subway\"\n",
    "resp = requests.get(url)\n",
    "html_src = resp.text\n",
    "# 웹 서버에 get 요청을 보내고, 응답한 객체를 변수에 저장.\n",
    "# 응답 객체의 text속성에서 HTML 소스코드를 추출하여 변수 html_src에 할당한다"
   ]
  },
  {
   "cell_type": "code",
   "execution_count": 14,
   "metadata": {},
   "outputs": [],
   "source": [
    "soup = BeautifulSoup(html_src, 'html.parser')\n",
    "# html 소스코드를 해석하여 BeautifulSoup 객체를 생성한다\n",
    "# 이떄, HTML을 파싱하는 적절한 구문 해석기(파서)를 함께 입력해야 한다."
   ]
  },
  {
   "cell_type": "markdown",
   "metadata": {},
   "source": [
    "# 여기까지 006 동일"
   ]
  },
  {
   "cell_type": "code",
   "execution_count": 25,
   "metadata": {},
   "outputs": [
    {
     "name": "stdout",
     "output_type": "stream",
     "text": [
      "하이퍼링크의 개수:  955\n",
      "\n",
      "\n",
      "첫 3개의 원소:  [<a id=\"top\"></a>, <a class=\"mw-jump-link\" href=\"#mw-head\">Jump to navigation</a>, <a class=\"mw-jump-link\" href=\"#searchInput\">Jump to search</a>]\n",
      "\n",
      "\n"
     ]
    }
   ],
   "source": [
    "# 한개의 태그를 찾을때는 bs4 클래스의 find() 메소드를 사용,\n",
    "# 조건을 만족하는 모든 태그를 찾을 때는 find_all() 메소드를 사용\n",
    "links=soup.find_all(\"a\")\n",
    "# 조건에 맞는 모든 태그를 찾아서 리스트 형태로 리턴한다.\n",
    "print(\"하이퍼링크의 개수: \", len(links))\n",
    "# 리스트의 개수를 세면 총 몇개의 태그가 들어있는지 알 수 있다.\n",
    "print(\"\\n\")\n",
    "print(\"첫 3개의 원소: \", links[:3])\n",
    "# 슬라이싱으로 0,1,2번 원소 선택\n",
    "print(\"\\n\")"
   ]
  },
  {
   "cell_type": "code",
   "execution_count": 34,
   "metadata": {
    "scrolled": true
   },
   "outputs": [
    {
     "name": "stdout",
     "output_type": "stream",
     "text": [
      "/wiki/ 문자열이 포함된 하이퍼링크:  [<a class=\"image\" href=\"/wiki/File:South_Korea_subway_logo.svg\"><img alt=\"South Korea subway logo.svg\" data-file-height=\"450\" data-file-width=\"450\" decoding=\"async\" height=\"75\" src=\"//upload.wikimedia.org/wikipedia/commons/thumb/1/12/South_Korea_subway_logo.svg/75px-South_Korea_subway_logo.svg.png\" srcset=\"//upload.wikimedia.org/wikipedia/commons/thumb/1/12/South_Korea_subway_logo.svg/113px-South_Korea_subway_logo.svg.png 1.5x, //upload.wikimedia.org/wikipedia/commons/thumb/1/12/South_Korea_subway_logo.svg/150px-South_Korea_subway_logo.svg.png 2x\" width=\"75\"/></a>, <a class=\"image\" href=\"/wiki/File:Seoul-Metro-2004-20070722.jpg\"><img alt=\"Seoul-Metro-2004-20070722.jpg\" data-file-height=\"2100\" data-file-width=\"2800\" decoding=\"async\" height=\"225\" src=\"//upload.wikimedia.org/wikipedia/commons/thumb/2/29/Seoul-Metro-2004-20070722.jpg/300px-Seoul-Metro-2004-20070722.jpg\" srcset=\"//upload.wikimedia.org/wikipedia/commons/thumb/2/29/Seoul-Metro-2004-20070722.jpg/450px-Seoul-Metro-2004-20070722.jpg 1.5x, //upload.wikimedia.org/wikipedia/commons/thumb/2/29/Seoul-Metro-2004-20070722.jpg/600px-Seoul-Metro-2004-20070722.jpg 2x\" width=\"300\"/></a>, <a href=\"/wiki/Government_of_South_Korea\" title=\"Government of South Korea\">Government of South Korea</a>]\n",
      "\n",
      "\n",
      "<a href=\"/wiki/Government_of_South_Korea\" title=\"Government of South Korea\">Government of South Korea</a>\n"
     ]
    }
   ],
   "source": [
    "wiki_links = soup.find_all(name=\"a\", href=re.compile(\"/wiki/\"), limit=3)\n",
    "# find_all() 메소드의 attrs 매개변수에 {'속성 이름' : '속성값'}의 딕셔너리 형태로 찾으려는 태그가 갖는 속성값을 지정할 수 있다.\n",
    "# class 속성값이 \"external text\"인 <a> 태그를 모두 찾아서 리스트 형태로 리턴한다.\n",
    "# limit 매개변수를 3으로 추출하여 3까지 추출한다.\n",
    "print(\"/wiki/ 문자열이 포함된 하이퍼링크: \", wiki_links)\n",
    "print(\"\\n\")\n",
    "print(wiki_links[2])"
   ]
  },
  {
   "cell_type": "code",
   "execution_count": 35,
   "metadata": {},
   "outputs": [
    {
     "name": "stdout",
     "output_type": "stream",
     "text": [
      "class 속성으로 추출한 하이퍼 링크:  [<a class=\"external text\" href=\"http://www.seoulmetro.co.kr/kr/board.do?menuIdx=548\" rel=\"nofollow\">\"자료실 : 알림마당&gt;자료실&gt;자료실\"</a>, <a class=\"external text\" href=\"http://www.korail.com/file/statistics/2012/2012-04.pdf\" rel=\"nofollow\">2012 Korail Statistics</a>, <a class=\"external text\" href=\"https://web.archive.org/web/20140227072212/http://www.korail.com/file/statistics/2012/2012-04.pdf\" rel=\"nofollow\">Archived</a>]\n"
     ]
    }
   ],
   "source": [
    "external_links = soup.find_all(name=\"a\", attrs={\"class\":\"external text\"}, limit=3)\n",
    "# find_all() 메소드의 attrs 매개변수에 {'속성 이름' : '속성값'}의 딕셔너리 형태로 찾으려는 태그가 갖는 속성값을 지정할 수 있다.\n",
    "# class 속성값이 \"external text\"인 <a> 태그를 모두 찾아서 리스트 형태로 리턴한다.\n",
    "# limit 매개변수를 3으로 설정하여 3개까지 추출한다.\n",
    "print(\"class 속성으로 추출한 하이퍼 링크: \", external_links)"
   ]
  }
 ],
 "metadata": {
  "kernelspec": {
   "display_name": "Python 3",
   "language": "python",
   "name": "python3"
  },
  "language_info": {
   "codemirror_mode": {
    "name": "ipython",
    "version": 3
   },
   "file_extension": ".py",
   "mimetype": "text/x-python",
   "name": "python",
   "nbconvert_exporter": "python",
   "pygments_lexer": "ipython3",
   "version": "3.8.3"
  }
 },
 "nbformat": 4,
 "nbformat_minor": 4
}
